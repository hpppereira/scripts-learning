{
 "cells": [
  {
   "cell_type": "code",
   "execution_count": 16,
   "metadata": {
    "collapsed": true
   },
   "outputs": [],
   "source": [
    "import os\n",
    "import xray\n",
    "import matplotlib.pylab as pl"
   ]
  },
  {
   "cell_type": "code",
   "execution_count": 8,
   "metadata": {
    "collapsed": true
   },
   "outputs": [],
   "source": [
    "filename = '_grib2netcdf-atls02-95e2cf679cd58ee9b4db4dd119a05a8d-yepi_J.nc'\n",
    "pathname = '/media/hp/MOSKOWITZ/ECMWF/'"
   ]
  },
  {
   "cell_type": "code",
   "execution_count": 9,
   "metadata": {
    "collapsed": false
   },
   "outputs": [],
   "source": [
    "dd = xray.open_dataset(pathname + filename)"
   ]
  },
  {
   "cell_type": "code",
   "execution_count": 10,
   "metadata": {
    "collapsed": false
   },
   "outputs": [
    {
     "data": {
      "text/plain": [
       "<xarray.Dataset>\n",
       "Dimensions:    (latitude: 65, longitude: 81, time: 108113)\n",
       "Coordinates:\n",
       "  * longitude  (longitude) float32 322.0 322.125 322.25 322.375 322.5 ...\n",
       "  * latitude   (latitude) float32 -27.0 -27.125 -27.25 -27.375 -27.5 -27.625 ...\n",
       "  * time       (time) datetime64[ns] 1979-01-01 1979-01-01T06:00:00 ...\n",
       "Data variables:\n",
       "    u10        (time, latitude, longitude) float64 -2.34 -2.308 -2.276 ...\n",
       "    v10        (time, latitude, longitude) float64 -8.694 -8.574 -8.454 ...\n",
       "    swh        (time, latitude, longitude) float64 1.459 1.439 1.42 1.4 1.38 ...\n",
       "    mwd        (time, latitude, longitude) float64 15.88 16.18 16.48 16.78 ...\n",
       "    mwp        (time, latitude, longitude) float64 5.661 5.67 5.68 5.689 ...\n",
       "Attributes:\n",
       "    Conventions: CF-1.6\n",
       "    history: 2016-03-22 18:22:10 GMT by grib_to_netcdf-1.14.5: grib_to_netcdf /data/data01/scratch/_mars-atls17-95e2cf679cd58ee9b4db4dd119a05a8d-YaisR_.grib -o /data/data01/scratch/_grib2netcdf-atls02-95e2cf679cd58ee9b4db4dd119a05a8d-yepi_J.nc -utime"
      ]
     },
     "execution_count": 10,
     "metadata": {},
     "output_type": "execute_result"
    }
   ],
   "source": [
    "dd"
   ]
  },
  {
   "cell_type": "code",
   "execution_count": 24,
   "metadata": {
    "collapsed": false
   },
   "outputs": [
    {
     "data": {
      "image/png": "[encoded data removed]",
      "text/plain": [
       "<matplotlib.figure.Figure at 0x7fe58141add0>"
      ]
     },
     "metadata": {},
     "output_type": "display_data"
    }
   ],
   "source": [
    "pl.contourf(dd.longitude, dd.latitude, dd.swh[0,:,:].data)\n",
    "pl.show()"
   ]
  },
  {
   "cell_type": "code",
   "execution_count": 26,
   "metadata": {
    "collapsed": false
   },
   "outputs": [
    {
     "data": {
      "image/png": "[encoded data removed]",
      "text/plain": [
       "<matplotlib.figure.Figure at 0x7fe5811c1050>"
      ]
     },
     "metadata": {},
     "output_type": "display_data"
    }
   ],
   "source": [
    "pl.plot(dd.swh[:,0,0])\n",
    "pl.show()"
   ]
  },
  {
   "cell_type": "code",
   "execution_count": 14,
   "metadata": {
    "collapsed": false
   },
   "outputs": [
    {
     "data": {
      "text/plain": [
       "Frozen(OrderedDict([(u'longitude', <xarray.Coordinate u'longitude' (longitude: 81)>\n",
       "array([ 322.   ,  322.125,  322.25 ,  322.375,  322.5  ,  322.625,\n",
       "        322.75 ,  322.875,  323.   ,  323.125,  323.25 ,  323.375,\n",
       "        323.5  ,  323.625,  323.75 ,  323.875,  324.   ,  324.125,\n",
       "        324.25 ,  324.375,  324.5  ,  324.625,  324.75 ,  324.875,\n",
       "        325.   ,  325.125,  325.25 ,  325.375,  325.5  ,  325.625,\n",
       "        325.75 ,  325.875,  326.   ,  326.125,  326.25 ,  326.375,\n",
       "        326.5  ,  326.625,  326.75 ,  326.875,  327.   ,  327.125,\n",
       "        327.25 ,  327.375,  327.5  ,  327.625,  327.75 ,  327.875,\n",
       "        328.   ,  328.125,  328.25 ,  328.375,  328.5  ,  328.625,\n",
       "        328.75 ,  328.875,  329.   ,  329.125,  329.25 ,  329.375,\n",
       "        329.5  ,  329.625,  329.75 ,  329.875,  330.   ,  330.125,\n",
       "        330.25 ,  330.375,  330.5  ,  330.625,  330.75 ,  330.875,\n",
       "        331.   ,  331.125,  331.25 ,  331.375,  331.5  ,  331.625,\n",
       "        331.75 ,  331.875,  332.   ], dtype=float32)\n",
       "Attributes:\n",
       "    units: degrees_east\n",
       "    long_name: longitude), (u'latitude', <xarray.Coordinate u'latitude' (latitude: 65)>\n",
       "array([-27.   , -27.125, -27.25 , -27.375, -27.5  , -27.625, -27.75 ,\n",
       "       -27.875, -28.   , -28.125, -28.25 , -28.375, -28.5  , -28.625,\n",
       "       -28.75 , -28.875, -29.   , -29.125, -29.25 , -29.375, -29.5  ,\n",
       "       -29.625, -29.75 , -29.875, -30.   , -30.125, -30.25 , -30.375,\n",
       "       -30.5  , -30.625, -30.75 , -30.875, -31.   , -31.125, -31.25 ,\n",
       "       -31.375, -31.5  , -31.625, -31.75 , -31.875, -32.   , -32.125,\n",
       "       -32.25 , -32.375, -32.5  , -32.625, -32.75 , -32.875, -33.   ,\n",
       "       -33.125, -33.25 , -33.375, -33.5  , -33.625, -33.75 , -33.875,\n",
       "       -34.   , -34.125, -34.25 , -34.375, -34.5  , -34.625, -34.75 ,\n",
       "       -34.875, -35.   ], dtype=float32)\n",
       "Attributes:\n",
       "    units: degrees_north\n",
       "    long_name: latitude), (u'time', <xarray.Coordinate u'time' (time: 108113)>\n",
       "array(['1979-01-01T00:00:00.000000000', '1979-01-01T06:00:00.000000000',\n",
       "       '1979-01-01T12:00:00.000000000', ...,\n",
       "       '2015-12-31T15:00:00.000000000', '2015-12-31T21:00:00.000000000',\n",
       "       '2016-01-01T00:00:00.000000000'], dtype='datetime64[ns]')\n",
       "Attributes:\n",
       "    long_name: time), (u'u10', <xarray.Variable (time: 108113, latitude: 65, longitude: 81)>\n",
       "[569214945 values with dtype=float64]\n",
       "Attributes:\n",
       "    units: m s**-1\n",
       "    long_name: 10 metre U wind component), (u'v10', <xarray.Variable (time: 108113, latitude: 65, longitude: 81)>\n",
       "[569214945 values with dtype=float64]\n",
       "Attributes:\n",
       "    units: m s**-1\n",
       "    long_name: 10 metre V wind component), (u'swh', <xarray.Variable (time: 108113, latitude: 65, longitude: 81)>\n",
       "[569214945 values with dtype=float64]\n",
       "Attributes:\n",
       "    units: m\n",
       "    long_name: Significant height of combined wind waves and swell), (u'mwd', <xarray.Variable (time: 108113, latitude: 65, longitude: 81)>\n",
       "[569214945 values with dtype=float64]\n",
       "Attributes:\n",
       "    units: degrees\n",
       "    long_name: Mean wave direction), (u'mwp', <xarray.Variable (time: 108113, latitude: 65, longitude: 81)>\n",
       "[569214945 values with dtype=float64]\n",
       "Attributes:\n",
       "    units: s\n",
       "    long_name: Mean wave period)]))"
      ]
     },
     "execution_count": 14,
     "metadata": {},
     "output_type": "execute_result"
    }
   ],
   "source": [
    "dd.variables"
   ]
  },
  {
   "cell_type": "code",
   "execution_count": null,
   "metadata": {
    "collapsed": true
   },
   "outputs": [],
   "source": []
  }
 ],
 "metadata": {
  "kernelspec": {
   "display_name": "Python 2",
   "language": "python",
   "name": "python2"
  },
  "language_info": {
   "codemirror_mode": {
    "name": "ipython",
    "version": 2
   },
   "file_extension": ".py",
   "mimetype": "text/x-python",
   "name": "python",
   "nbconvert_exporter": "python",
   "pygments_lexer": "ipython2",
   "version": "2.7.13"
  }
 },
 "nbformat": 4,
 "nbformat_minor": 2
}
