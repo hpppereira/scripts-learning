{
 "cells": [
  {
   "cell_type": "markdown",
   "metadata": {},
   "source": [
    "# ''' Contcatena os dados .WAVE da Baia de Guanabara '''\n",
    "AtmosMarine"
   ]
  },
  {
   "cell_type": "code",
   "execution_count": 240,
   "metadata": {
    "collapsed": true
   },
   "outputs": [],
   "source": [
    "import os\n",
    "import numpy as np\n",
    "import pandas as pd\n",
    "import matplotlib.pylab as pl\n",
    "from datetime import datetime\n",
    "%matplotlib inline\n",
    "# %matplotlib qt"
   ]
  },
  {
   "cell_type": "code",
   "execution_count": 62,
   "metadata": {
    "collapsed": false
   },
   "outputs": [],
   "source": [
    "pathname = os.environ['HOME'] + '/Documents/database/Historical/Buoys/' + \\\n",
    "                                'PNBOIA/CHM/Dados_Descompactados/Dados_Baia_de_Guanabara/TAS02620/Wyy/'"
   ]
  },
  {
   "cell_type": "code",
   "execution_count": 255,
   "metadata": {
    "collapsed": false
   },
   "outputs": [],
   "source": [
    "#concatena os dados\n",
    "df = pd.DataFrame()\n",
    "\n",
    "#varia os anos\n",
    "for year in np.sort(os.listdir(pathname)):\n",
    "    \n",
    "    months = np.sort(os.listdir(pathname + year))\n",
    "    \n",
    "    #varia os meses de cada ano\n",
    "    for month in months:\n",
    "        \n",
    "        arqs_all = np.sort(os.listdir(pathname + year + '/' + month + '/WAVE/'))\n",
    "        \n",
    "        #cria lista de arquivos por mes\n",
    "        arqs = []\n",
    "        for a in arqs_all:\n",
    "            \n",
    "            if len(a) == 13:\n",
    "                \n",
    "                arqs.append(a)\n",
    "                \n",
    "        #le cada arquivo de cada mes\n",
    "        for arq in arqs:\n",
    "            \n",
    "            df = pd.concat([df, pd.read_table(pathname + year + '/' + month + '/WAVE/' + arq)],ignore_index=True)\n",
    "            \n",
    "#create vector date\n",
    "date = []\n",
    "for i in range(len(df)):\n",
    "    date.append(pd.to_datetime(str(df.Year[i]) + str(df.MonthDay[i]).zfill(4) + str(df.Time[i]).zfill(6)))\n",
    "    \n",
    "df['date'] = date\n",
    "df = df.set_index([df.date])"
   ]
  },
  {
   "cell_type": "code",
   "execution_count": 244,
   "metadata": {
    "collapsed": false
   },
   "outputs": [
    {
     "data": {
      "text/plain": [
       "Index(['Received', 'Year', 'MonthDay', 'Time', 'Buoy ID', 'Location',\n",
       "       'Number of Zero Crossings', 'Average Wave Height (Havg)', 'Tz',\n",
       "       'Max Wave Height (Hmax)', 'Significant Wave Height (Hsig)',\n",
       "       'Significant Wave Period (Tsig)', 'H 10', 'T 10', 'Mean Period',\n",
       "       'Peak Period', 'Tp5', 'Hm0', 'Mean Magnetic Direction', 'Mean Spread',\n",
       "       'Mean True Direction', 'Te', 'Wave Steepness'],\n",
       "      dtype='object')"
      ]
     },
     "execution_count": 244,
     "metadata": {},
     "output_type": "execute_result"
    }
   ],
   "source": [
    "df.columns"
   ]
  },
  {
   "cell_type": "code",
   "execution_count": 247,
   "metadata": {
    "collapsed": false
   },
   "outputs": [
    {
     "data": {
      "text/plain": [
       "(Timestamp('2014-09-04 15:00:00'), Timestamp('2015-02-10 15:00:00'))"
      ]
     },
     "execution_count": 247,
     "metadata": {},
     "output_type": "execute_result"
    }
   ],
   "source": [
    "df.index[0], df.index[-1]"
   ]
  },
  {
   "cell_type": "code",
   "execution_count": 257,
   "metadata": {
    "collapsed": false
   },
   "outputs": [
    {
     "data": {
      "text/plain": [
       "[<matplotlib.lines.Line2D at 0x7f5a1f12a390>]"
      ]
     },
     "execution_count": 257,
     "metadata": {},
     "output_type": "execute_result"
    }
   ],
   "source": [
    "# %matplotlib qt\n",
    "fig = pl.figure(figsize=(12,10))\n",
    "ax1 = fig.add_subplot(311)\n",
    "ax1.plot(df.index, df.Hm0,'b.')\n",
    "# ax1.plot(df.index, df['Average Wave Height (Havg)'], '.r')\n",
    "# ax1.plot(df.index, df['Max Wave Height (Hmax)'], '.g')\n",
    "ax1.set_ylim(0,1.5)\n",
    "ax1 = fig.add_subplot(312)\n",
    "ax1.plot(df.index, df['Peak Period'],'.')\n",
    "# ax1.set_ylim(0,1.5)\n",
    "ax1 = fig.add_subplot(313)\n",
    "ax1.plot(df.index, df['Mean Magnetic Direction'],'.')\n",
    "# ax1.set_ylim(0,1.5)"
   ]
  },
  {
   "cell_type": "code",
   "execution_count": 258,
   "metadata": {
    "collapsed": true
   },
   "outputs": [],
   "source": [
    "df.to_csv('BGA_Card.csv')"
   ]
  },
  {
   "cell_type": "code",
   "execution_count": 259,
   "metadata": {
    "collapsed": true
   },
   "outputs": [],
   "source": [
    "pl.close('all')"
   ]
  }
 ],
 "metadata": {
  "anaconda-cloud": {},
  "kernelspec": {
   "display_name": "Python [Root]",
   "language": "python",
   "name": "Python [Root]"
  },
  "language_info": {
   "codemirror_mode": {
    "name": "ipython",
    "version": 3
   },
   "file_extension": ".py",
   "mimetype": "text/x-python",
   "name": "python",
   "nbconvert_exporter": "python",
   "pygments_lexer": "ipython3",
   "version": "3.5.2"
  }
 },
 "nbformat": 4,
 "nbformat_minor": 0
}
