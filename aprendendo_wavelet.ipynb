{
 "cells": [
  {
   "cell_type": "code",
   "execution_count": 21,
   "metadata": {
    "collapsed": false
   },
   "outputs": [
    {
     "name": "stdout",
     "output_type": "stream",
     "text": [
      "[ 5.65685425  7.39923721  0.22414387  3.33677403  7.77817459]\n",
      "[-2.44948974 -1.60368225 -4.44140056 -0.41361256  1.22474487]\n",
      "[ 3.  7.  1.  1. -2.  5.  4.  6.]\n"
     ]
    }
   ],
   "source": [
    "%matplotlib inline\n",
    "\n",
    "#Discrete Wavelet Transform\n",
    "\n",
    "import pywt\n",
    "\n",
    "x = [3, 7, 1, 1, -2, 5, 4, 6]\n",
    "cA, cD = pywt.dwt(x, 'db2')\n",
    "\n",
    "#And the approximation and details coefficients are in cA and cD respectively:\n",
    "print cA\n",
    "print cD\n",
    "\n",
    "#Inverse Discrete Wavelet Transform\n",
    "\n",
    "#Now lets do an opposite operation - Inverse Discrete Wavelet Transform:\n",
    "\n",
    "print pywt.idwt(cA, cD, 'db2')\n",
    "\n",
    "\n",
    "\n"
   ]
  },
  {
   "cell_type": "code",
   "execution_count": 9,
   "metadata": {
    "collapsed": false
   },
   "outputs": [
    {
     "name": "stdout",
     "output_type": "stream",
     "text": [
      "[ 4.38354585  3.80302657  7.31813271 -0.58565539  4.09727044  7.81994027]\n",
      "[-1.33068221 -2.78795192 -3.16825651 -0.67715519 -0.09722957 -0.07045258]\n"
     ]
    },
    {
     "data": {
      "text/plain": [
       "6"
      ]
     },
     "execution_count": 9,
     "metadata": {},
     "output_type": "execute_result"
    }
   ],
   "source": [
    "#Now lets experiment with the dwt() some more. For example let’s pass a Wavelet object instead of the wavelet name and specify signal extension mode (the default is sym) for the border effect handling:\n",
    "\n",
    "w = pywt.Wavelet('sym3')\n",
    "cA, cD = pywt.dwt(x, wavelet=w, mode='cpd')\n",
    "print cA\n",
    "print cD\n",
    "\n",
    "#Note that the output coefficients arrays length depends not only on the input data length but also on the :class:Wavelet type (particularly on its filters lenght that are used in the transformation).\n",
    "\n",
    "#To find out what will be the output data size use the dwt_coeff_len() function:\n",
    "\n",
    "# int() is for normalizing Python integers and long integers for documentation tests\n",
    "int(pywt.dwt_coeff_len(data_len=len(x), filter_len=w.dec_len, mode='sym'))\n",
    "int(pywt.dwt_coeff_len(len(x), w, 'sym'))\n",
    "len(cA)\n",
    "\n"
   ]
  },
  {
   "cell_type": "code",
   "execution_count": 10,
   "metadata": {
    "collapsed": false
   },
   "outputs": [
    {
     "data": {
      "text/plain": [
       "['zpd', 'cpd', 'sym', 'ppd', 'sp1', 'per']"
      ]
     },
     "execution_count": 10,
     "metadata": {},
     "output_type": "execute_result"
    }
   ],
   "source": [
    "pywt.MODES.modes"
   ]
  },
  {
   "cell_type": "code",
   "execution_count": 12,
   "metadata": {
    "collapsed": false
   },
   "outputs": [
    {
     "data": {
      "text/plain": [
       "[6, 6, 6, 6, 6, 4]"
      ]
     },
     "execution_count": 12,
     "metadata": {},
     "output_type": "execute_result"
    }
   ],
   "source": [
    "#ver o comprimento da saida dos coeficientes para cada modo\n",
    "\n",
    "[int(pywt.dwt_coeff_len(len(x), w.dec_len, mode)) for mode in pywt.MODES.modes]"
   ]
  },
  {
   "cell_type": "code",
   "execution_count": 23,
   "metadata": {
    "collapsed": false
   },
   "outputs": [
    {
     "data": {
      "image/png": "[encoded data removed]",
      "text/plain": [
       "<matplotlib.figure.Figure at 0x7f7b58727450>"
      ]
     },
     "metadata": {},
     "output_type": "display_data"
    }
   ],
   "source": [
    "from scipy import signal\n",
    "import numpy as np\n",
    "import matplotlib.pyplot as plt\n",
    "plt.close('all')\n",
    "\n",
    "t = np.linspace(-1, 1, 200, endpoint=False)\n",
    "sig  = np.cos(2 * np.pi * 7 * t) + signal.gausspulse(t - 0.4, fc=2)\n",
    "\n",
    "plt.plot(sig)\n",
    "#widths = np.arange(1, 31)\n",
    "#cwtmatr = signal.cwt(sig, signal.ricker, widths)\n",
    "#plt.imshow(cwtmatr, extent=[-1, 1, 1, 31], cmap='PRGn', aspect='auto',\n",
    "#           vmax=abs(cwtmatr).max(), vmin=-abs(cwtmatr).max())\n",
    "\n",
    "\n",
    "plt.show()\n"
   ]
  },
  {
   "cell_type": "code",
   "execution_count": null,
   "metadata": {
    "collapsed": true
   },
   "outputs": [],
   "source": []
  }
 ],
 "metadata": {
  "kernelspec": {
   "display_name": "Python 2",
   "language": "python",
   "name": "python2"
  },
  "language_info": {
   "codemirror_mode": {
    "name": "ipython",
    "version": 2
   },
   "file_extension": ".py",
   "mimetype": "text/x-python",
   "name": "python",
   "nbconvert_exporter": "python",
   "pygments_lexer": "ipython2",
   "version": "2.7.10"
  }
 },
 "nbformat": 4,
 "nbformat_minor": 0
}
