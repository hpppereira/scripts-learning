{
 "cells": [
  {
   "cell_type": "markdown",
   "metadata": {},
   "source": [
    "# Criar arquivos netCDF4 dos dados das boias"
   ]
  },
  {
   "cell_type": "code",
   "execution_count": 1,
   "metadata": {
    "collapsed": true
   },
   "outputs": [],
   "source": [
    "import os\n",
    "import numpy as np\n",
    "import pandas as pd\n",
    "import netCDF4 as nc"
   ]
  },
  {
   "cell_type": "code",
   "execution_count": 2,
   "metadata": {
    "collapsed": false
   },
   "outputs": [
    {
     "data": {
      "text/plain": [
       "Index([u'ate', u'bat', u'bp', u'con', u'dir1', u'dp', u'dp_ax', u'err', u'hs',\n",
       "       u'hs_ax', u'lat', u'lon', u'mag1', u'psbe10', u'psbe100', u'rh', u'tdl',\n",
       "       u'tp', u'tp_ax', u'tsbe10', u'tsbe100', u'tsbe20', u'tsbe30', u'tsbe40',\n",
       "       u'tsbe50', u'tsbe60', u'tsbe70', u'tsbe80', u'tsbe90', u'tsup', u'wd',\n",
       "       u'ws'],\n",
       "      dtype='object')"
      ]
     },
     "execution_count": 2,
     "metadata": {},
     "output_type": "execute_result"
    }
   ],
   "source": [
    "pathname = os.environ['HOME'] + '/Dropbox/bmop/Processamento/data/CF1_BMOBR05_2016Nov/'\n",
    "filename = 'cf1nov16.csv'\n",
    "\n",
    "dd = pd.read_csv(pathname + filename, index_col='date', parse_dates=True)\n",
    "dd.columns"
   ]
  },
  {
   "cell_type": "code",
   "execution_count": 12,
   "metadata": {
    "collapsed": false
   },
   "outputs": [],
   "source": [
    "#create nc\n",
    "\n",
    "dataset = nc.Dataset('teste1.nc', 'w', format='NETCDF4_CLASSIC')\n",
    "\n",
    "# Create dimensions\n",
    "time = dataset.createDimension('time', len(dd))\n",
    "\n",
    "\n",
    "# create variables\n",
    "# Dataset.createVariable(<var_id>, <type>, <dimensions>)\n",
    "time = dataset.createVariable('time', np.float32, ('time',))\n",
    "hs = dataset.createVariable('hs', np.float32, ('time',))\n",
    "tp = dataset.createVariable('tp', np.float32, ('time',))\n",
    "dp = dataset.createVariable('dp', np.float32, ('time',))\n",
    "latitude = dataset.createVariable('lat', np.float32, ('time',))\n",
    "longitude = dataset.createVariable('lon', np.float32, ('time',))\n",
    "\n",
    "# attributes\n",
    "dataset.description = 'CF-01 Buoy Data'\n",
    "dataset.history = 'Created in XX/XX'\n",
    "dataset.source = 'LIOc'\n",
    "latitude.units = 'degrees south'\n",
    "longitude.units = 'degrees west'\n",
    "hs.units = 'meters'\n",
    "tp.units = 'seconds'\n",
    "dp.units = 'degrees'\n",
    "time.units = 'UTC - 3'\n",
    "time.calendar = 'gregorian'\n",
    "\n",
    "# writing data\n",
    "latitude[:] = dd.lat.values\n",
    "longitude[:] = dd.lon.values\n",
    "hs[:] = dd.hs.values\n",
    "tp[:] = dd.tp.values\n",
    "dp[:] = dd.dp.values\n",
    "\n",
    "dataset.close()"
   ]
  },
  {
   "cell_type": "code",
   "execution_count": 11,
   "metadata": {
    "collapsed": false
   },
   "outputs": [],
   "source": [
    "dataset.close()"
   ]
  }
 ],
 "metadata": {
  "anaconda-cloud": {},
  "kernelspec": {
   "display_name": "Python [conda root]",
   "language": "python",
   "name": "conda-root-py"
  },
  "language_info": {
   "codemirror_mode": {
    "name": "ipython",
    "version": 2
   },
   "file_extension": ".py",
   "mimetype": "text/x-python",
   "name": "python",
   "nbconvert_exporter": "python",
   "pygments_lexer": "ipython2",
   "version": "2.7.12"
  }
 },
 "nbformat": 4,
 "nbformat_minor": 1
}
