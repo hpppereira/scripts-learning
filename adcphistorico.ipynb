{
 "cells": [
  {
   "cell_type": "code",
   "execution_count": 304,
   "metadata": {
    "collapsed": false
   },
   "outputs": [],
   "source": [
    "'''Processamento dos dados do ADCP da Vale\n",
    "disponibilizados coletados pela Ambidados\n",
    "Os dados estao em \n",
    "ww3vale/dados/historico/'''\n",
    "\n",
    "import numpy as np\n",
    "from matplotlib import pylab as pl\n",
    "import os\n",
    "import pandas as pd\n",
    "import consistebruto"
   ]
  },
  {
   "cell_type": "code",
   "execution_count": 531,
   "metadata": {
    "collapsed": false
   },
   "outputs": [
    {
     "name": "stderr",
     "output_type": "stream",
     "text": [
      "/usr/local/python/anaconda/lib/python2.7/site-packages/IPython/kernel/__main__.py:14: SettingWithCopyWarning: \n",
      "A value is trying to be set on a copy of a slice from a DataFrame\n",
      "\n",
      "See the the caveats in the documentation: http://pandas.pydata.org/pandas-docs/stable/indexing.html#indexing-view-versus-copy\n",
      "/usr/local/python/anaconda/lib/python2.7/site-packages/IPython/kernel/__main__.py:18: SettingWithCopyWarning: \n",
      "A value is trying to be set on a copy of a slice from a DataFrame\n",
      "\n",
      "See the the caveats in the documentation: http://pandas.pydata.org/pandas-docs/stable/indexing.html#indexing-view-versus-copy\n"
     ]
    }
   ],
   "source": [
    "'''Estrutura os dados em data frame --  adicionar a dp no data frame e\n",
    "ajusta as datas com datetime - intermo os dados de hora em hora'''\n",
    "\n",
    "pathname = os.environ['HOME'] + '/Dropbox/ww3vale/TU/dados/ADCP/historico/'\n",
    "\n",
    "#le de ondas (Hs e Tp) dos arquivos em pandas\n",
    "df04 = pd.read_table(pathname + 'onda_Boia4_01092014_03092015.txt',skiprows=1,sep='\\t',header=0, \\\n",
    "                     names=['date','hs','tp'])\n",
    "df10 = pd.read_table(pathname + 'onda_Boia10_01092014_03092015.txt',skiprows=1,sep='\\t',header=0, \\\n",
    "                     names=['date','hs','tp'])\n",
    "\n",
    "\n",
    "#colocar os valores com dia 0 idem ao dia anterior\n",
    "for i in range(len(df04)):\n",
    "    if df04['date'][i][0] == '0':\n",
    "        df04['date'][i] = df04['date'][i-1][0:11] + df04['date'][i][-8:]\n",
    "        \n",
    "for i in range(len(df10)):\n",
    "    if df10['date'][i][0] == '0':\n",
    "        df10['date'][i] = df10['date'][i-1][0:11] + df10['date'][i][-8:]\n",
    "\n",
    "#deixa a coluna de datas com datetime\n",
    "df04['date'] = pd.to_datetime(df04['date'], format='%d/%m/%Y %H:%M:%S')\n",
    "df10['date'] = pd.to_datetime(df10['date'], format='%d/%m/%Y %H:%M:%S')\n",
    "\n"
   ]
  },
  {
   "cell_type": "code",
   "execution_count": 541,
   "metadata": {
    "collapsed": false
   },
   "outputs": [
    {
     "name": "stderr",
     "output_type": "stream",
     "text": [
      "/usr/local/python/anaconda/lib/python2.7/site-packages/IPython/kernel/__main__.py:6: SettingWithCopyWarning: \n",
      "A value is trying to be set on a copy of a slice from a DataFrame\n",
      "\n",
      "See the the caveats in the documentation: http://pandas.pydata.org/pandas-docs/stable/indexing.html#indexing-view-versus-copy\n",
      "/usr/local/python/anaconda/lib/python2.7/site-packages/IPython/kernel/__main__.py:7: SettingWithCopyWarning: \n",
      "A value is trying to be set on a copy of a slice from a DataFrame\n",
      "\n",
      "See the the caveats in the documentation: http://pandas.pydata.org/pandas-docs/stable/indexing.html#indexing-view-versus-copy\n",
      "/usr/local/python/anaconda/lib/python2.7/site-packages/IPython/kernel/__main__.py:8: SettingWithCopyWarning: \n",
      "A value is trying to be set on a copy of a slice from a DataFrame\n",
      "\n",
      "See the the caveats in the documentation: http://pandas.pydata.org/pandas-docs/stable/indexing.html#indexing-view-versus-copy\n",
      "/usr/local/python/anaconda/lib/python2.7/site-packages/IPython/kernel/__main__.py:9: SettingWithCopyWarning: \n",
      "A value is trying to be set on a copy of a slice from a DataFrame\n",
      "\n",
      "See the the caveats in the documentation: http://pandas.pydata.org/pandas-docs/stable/indexing.html#indexing-view-versus-copy\n",
      "/usr/local/python/anaconda/lib/python2.7/site-packages/IPython/kernel/__main__.py:12: SettingWithCopyWarning: \n",
      "A value is trying to be set on a copy of a slice from a DataFrame\n",
      "\n",
      "See the the caveats in the documentation: http://pandas.pydata.org/pandas-docs/stable/indexing.html#indexing-view-versus-copy\n",
      "/usr/local/python/anaconda/lib/python2.7/site-packages/IPython/kernel/__main__.py:13: SettingWithCopyWarning: \n",
      "A value is trying to be set on a copy of a slice from a DataFrame\n",
      "\n",
      "See the the caveats in the documentation: http://pandas.pydata.org/pandas-docs/stable/indexing.html#indexing-view-versus-copy\n",
      "/usr/local/python/anaconda/lib/python2.7/site-packages/IPython/kernel/__main__.py:14: SettingWithCopyWarning: \n",
      "A value is trying to be set on a copy of a slice from a DataFrame\n",
      "\n",
      "See the the caveats in the documentation: http://pandas.pydata.org/pandas-docs/stable/indexing.html#indexing-view-versus-copy\n",
      "/usr/local/python/anaconda/lib/python2.7/site-packages/IPython/kernel/__main__.py:15: SettingWithCopyWarning: \n",
      "A value is trying to be set on a copy of a slice from a DataFrame\n",
      "\n",
      "See the the caveats in the documentation: http://pandas.pydata.org/pandas-docs/stable/indexing.html#indexing-view-versus-copy\n",
      "/usr/local/python/anaconda/lib/python2.7/site-packages/IPython/kernel/__main__.py:18: SettingWithCopyWarning: \n",
      "A value is trying to be set on a copy of a slice from a DataFrame\n",
      "\n",
      "See the the caveats in the documentation: http://pandas.pydata.org/pandas-docs/stable/indexing.html#indexing-view-versus-copy\n",
      "/usr/local/python/anaconda/lib/python2.7/site-packages/IPython/kernel/__main__.py:19: SettingWithCopyWarning: \n",
      "A value is trying to be set on a copy of a slice from a DataFrame\n",
      "\n",
      "See the the caveats in the documentation: http://pandas.pydata.org/pandas-docs/stable/indexing.html#indexing-view-versus-copy\n",
      "/usr/local/python/anaconda/lib/python2.7/site-packages/IPython/kernel/__main__.py:20: SettingWithCopyWarning: \n",
      "A value is trying to be set on a copy of a slice from a DataFrame\n",
      "\n",
      "See the the caveats in the documentation: http://pandas.pydata.org/pandas-docs/stable/indexing.html#indexing-view-versus-copy\n",
      "/usr/local/python/anaconda/lib/python2.7/site-packages/IPython/kernel/__main__.py:21: SettingWithCopyWarning: \n",
      "A value is trying to be set on a copy of a slice from a DataFrame\n",
      "\n",
      "See the the caveats in the documentation: http://pandas.pydata.org/pandas-docs/stable/indexing.html#indexing-view-versus-copy\n",
      "/usr/local/python/anaconda/lib/python2.7/site-packages/IPython/kernel/__main__.py:24: SettingWithCopyWarning: \n",
      "A value is trying to be set on a copy of a slice from a DataFrame\n",
      "\n",
      "See the the caveats in the documentation: http://pandas.pydata.org/pandas-docs/stable/indexing.html#indexing-view-versus-copy\n",
      "/usr/local/python/anaconda/lib/python2.7/site-packages/IPython/kernel/__main__.py:25: SettingWithCopyWarning: \n",
      "A value is trying to be set on a copy of a slice from a DataFrame\n",
      "\n",
      "See the the caveats in the documentation: http://pandas.pydata.org/pandas-docs/stable/indexing.html#indexing-view-versus-copy\n",
      "/usr/local/python/anaconda/lib/python2.7/site-packages/IPython/kernel/__main__.py:26: SettingWithCopyWarning: \n",
      "A value is trying to be set on a copy of a slice from a DataFrame\n",
      "\n",
      "See the the caveats in the documentation: http://pandas.pydata.org/pandas-docs/stable/indexing.html#indexing-view-versus-copy\n",
      "/usr/local/python/anaconda/lib/python2.7/site-packages/IPython/kernel/__main__.py:27: SettingWithCopyWarning: \n",
      "A value is trying to be set on a copy of a slice from a DataFrame\n",
      "\n",
      "See the the caveats in the documentation: http://pandas.pydata.org/pandas-docs/stable/indexing.html#indexing-view-versus-copy\n"
     ]
    }
   ],
   "source": [
    "'''consistencia dos dados. todos\n",
    "os dados que forem reprovados em algura reprova\n",
    "o valor de tp e dp, assim como o tp e dp invalidam o hs'''\n",
    "\n",
    "#nan nos valores com hs > 4 - nos 2 adcps\n",
    "df04.hs[df04.hs > 4] = np.nan\n",
    "df04.tp[df04.hs > 4] = np.nan\n",
    "df10.hs[df10.hs > 4] = np.nan\n",
    "df10.tp[df10.hs > 4] = np.nan\n",
    "\n",
    "#remove valores de hs abaixo de 0.4 m\n",
    "df04.hs[df04.hs < 0.4] = np.nan\n",
    "df04.tp[df04.hs < 0.4] = np.nan\n",
    "df10.hs[df10.hs < 0.4] = np.nan\n",
    "df10.tp[df10.hs < 0.4] = np.nan\n",
    "\n",
    "#remove valores de tp abaixo de 2 s\n",
    "df04.hs[df04.tp < 2] = np.nan\n",
    "df04.tp[df04.tp < 2] = np.nan\n",
    "df10.hs[df10.tp < 2] = np.nan\n",
    "df10.tp[df10.tp < 2] = np.nan\n",
    "\n",
    "#remove tp > 20 s\n",
    "df04.hs[df04.tp > 20] = np.nan\n",
    "df04.tp[df04.tp > 20] = np.nan\n",
    "df10.hs[df10.tp > 20] = np.nan\n",
    "df10.tp[df10.tp > 20] = np.nan\n",
    "\n"
   ]
  },
  {
   "cell_type": "code",
   "execution_count": 542,
   "metadata": {
    "collapsed": false
   },
   "outputs": [],
   "source": [
    "'''plotagem'''\n",
    "pl.close('all')\n",
    "\n",
    "pl.figure()\n",
    "pl.subplot(211)\n",
    "pl.plot(df04['date'],df04['hs'],'b.',df10['date'],df10['hs'],'r.')\n",
    "pl.legend(['ADCP 04','ADCP 10'],ncol=2,loc='upper center')\n",
    "pl.subplot(212)\n",
    "pl.plot(df04['date'],df04['tp'],'b.',df10['date'],df10['tp'],'r.')\n",
    "pl.show()"
   ]
  }
 ],
 "metadata": {
  "kernelspec": {
   "display_name": "Python 2",
   "language": "python",
   "name": "python2"
  },
  "language_info": {
   "codemirror_mode": {
    "name": "ipython",
    "version": 2
   },
   "file_extension": ".py",
   "mimetype": "text/x-python",
   "name": "python",
   "nbconvert_exporter": "python",
   "pygments_lexer": "ipython2",
   "version": "2.7.10"
  }
 },
 "nbformat": 4,
 "nbformat_minor": 0
}
