{
 "cells": [
  {
   "cell_type": "code",
   "execution_count": 1,
   "metadata": {},
   "outputs": [],
   "source": [
    "# Plota dados do AIS\n",
    "# Henrique Pereira e Beatriz Marques\n",
    "\n",
    "#module import\n",
    "import urllib.request\n",
    "from bs4 import BeautifulSoup\n",
    "import re\n",
    "import pandas as pd\n",
    "from datetime import datetime\n",
    "import locale\n",
    "locale.setlocale(locale.LC_ALL, locale='en_US.utf8') #as we need to deal with names of monthes later on.\n",
    "import os\n",
    "\n",
    "def coords2lalon(coords):\n",
    "    \"\"\"\n",
    "    \"\"\"\n",
    "    lat, lon = coords.split('/')\n",
    "    if 'S' in lat: \n",
    "        lat = float(lat.split()[0])*-1\n",
    "    if 'W' in lon: \n",
    "        lon = float(lon.split()[0])*-1\n",
    "    return lat, lon\n",
    "\n",
    "def dms2dd(degrees,direction):\n",
    "    dd = float(degrees) ;\n",
    "    if direction == 'S' or direction == 'W':\n",
    "        dd *= -1\n",
    "    return dd\n",
    "\n",
    "def parse_dms(dms):\n",
    "    parts = re.split(' ', dms)\n",
    "    lat = dms2dd(parts[0], parts[1])\n",
    "    return lat\n",
    "\n",
    "if __name__ == \"__main__\":\n",
    "\n",
    "    IMOS = [9318436]\n",
    "\n",
    "    hdr = {'User-Agent': 'Mozilla/5.0 (X11; Linux x86_64) AppleWebKit/537.11 (KHTML, like Gecko) Chrome/23.0.1271.64 Safari/537.11',\n",
    "           'Accept': 'text/html,application/xhtml+xml,application/xml;q=0.9,*/*;q=0.8',\n",
    "           'Accept-Charset': 'ISO-8859-1,utf-8;q=0.7,*;q=0.3',\n",
    "           'Accept-Encoding': 'none',\n",
    "           'Accept-Language': 'en-US,en;q=0.8',\n",
    "           'Connection': 'keep-alive'}\n",
    "\n",
    "    items = []\n",
    "    for IMO in IMOS:\n",
    "        url = r'https://www.vesselfinder.com/en/vessels/VOS-TRAVELLER-IMO-' + str(IMO)\n",
    "        req = urllib.request.Request(url, None, hdr)\n",
    "        with urllib.request.urlopen(req) as response:\n",
    "            the_page = response.read()\n",
    "        parsed_html = BeautifulSoup(the_page)\n",
    "\n",
    "        vessel_name = parsed_html.find(\"td\", text=\"Vessel Name\").find_next_sibling(\"td\").text\n",
    "        ship_type = parsed_html.find(\"td\", text=\"Ship type\").find_next_sibling(\"td\").text\n",
    "        flag = parsed_html.find(\"td\", text=\"Flag\").find_next_sibling(\"td\").text\n",
    "        course_speed = parsed_html.find(\"td\", text=\"Course / Speed\").find_next_sibling(\"td\").text\n",
    "        coords = parsed_html.find(\"td\", text=\"Coordinates\").find_next_sibling(\"td\").text\n",
    "\n",
    "        for l in parsed_html.findAll(\"tr\"): \n",
    "            if \"Last report\" in str(l):\n",
    "                    last_report = datetime.strptime(str(l).split('>')[6].split('<')[0].strip(), '%b %d, %Y %H:%M %Z')\n",
    "\n",
    "        lat, lon = coords2lalon(coords)\n",
    "        items.append((lat, lon, vessel_name, last_report))\n",
    "\n",
    "    filename = 'ship_positions.txt'\n",
    "    if os.path.exists(filename):\n",
    "        append_write = 'a' # append if already exists\n",
    "        fw = open(filename,append_write)\n",
    "    else:\n",
    "        append_write = 'w' # make a new file if not\n",
    "        fw = open(filename,append_write)\n",
    "        fw.write(\"lat;lon;name;time\\n\")\n",
    "    for item in items:\n",
    "        fw.write(\"%3.5f;%3.5f;%s;%s\\n\" % item)\n",
    "    fw.close()\n",
    "\n",
    "\n",
    "    #get it on a map:\n",
    "    from arcgis.gis import GIS\n",
    "    gis = GIS()\n",
    "    map = gis.map()\n",
    "    df = pd.DataFrame.from_records(items)\n",
    "    df.columns = ['y', 'x', 'name', 'zeit']\n",
    "    ships = gis.content.import_data(df)\n",
    "    map.add_layer(ships)\n",
    "    map.center = [lat, lon]"
   ]
  },
  {
   "cell_type": "code",
   "execution_count": 3,
   "metadata": {},
   "outputs": [
    {
     "data": {
      "application/vnd.jupyter.widget-view+json": {
       "model_id": "15c699d6a83d4ed29aefaf6fc2dcdcb6",
       "version_major": 2,
       "version_minor": 0
      },
      "text/plain": [
       "MapView(jupyter_target='notebook', layout=Layout(height='400px', width='100%'), ready=True, zoom=10.0)"
      ]
     },
     "metadata": {},
     "output_type": "display_data"
    },
    {
     "data": {
      "text/html": [
       "<div class=\"map-static-img-preview-b6ec362b-0cf4-46e2-89cf-4370303d7e92\"><img src=\"\"></img></div>"
      ],
      "text/plain": [
       "<IPython.core.display.HTML object>"
      ]
     },
     "metadata": {},
     "output_type": "display_data"
    }
   ],
   "source": [
    "map"
   ]
  }
 ],
 "metadata": {
  "kernelspec": {
   "display_name": "Python 3",
   "language": "python",
   "name": "python3"
  },
  "language_info": {
   "codemirror_mode": {
    "name": "ipython",
    "version": 3
   },
   "file_extension": ".py",
   "mimetype": "text/x-python",
   "name": "python",
   "nbconvert_exporter": "python",
   "pygments_lexer": "ipython3",
   "version": "3.7.3"
  }
 },
 "nbformat": 4,
 "nbformat_minor": 2
}
