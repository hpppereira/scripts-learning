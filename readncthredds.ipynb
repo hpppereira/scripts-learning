{
 "cells": [
  {
   "cell_type": "markdown",
   "metadata": {},
   "source": [
    "# Read and plot netcdf file from Thredds test"
   ]
  },
  {
   "cell_type": "code",
   "execution_count": 4,
   "metadata": {
    "collapsed": false
   },
   "outputs": [],
   "source": [
    "from netCDF4 import Dataset\n",
    "import matplotlib.pyplot as pl"
   ]
  },
  {
   "cell_type": "code",
   "execution_count": 86,
   "metadata": {
    "collapsed": false
   },
   "outputs": [
    {
     "name": "stdout",
     "output_type": "stream",
     "text": [
      "<type 'netCDF4._netCDF4.Dataset'>\n",
      "root group (NETCDF3_CLASSIC data model, file format NETCDF3):\n",
      "    record: reftime, valtime\n",
      "    history: 2003-09-25 16:09:26 - created by gribtocdl 1.4 - 12.12.2002\n",
      "    title: CMC_reg_HGT_SFC_0_ps60km_2003092500_P000.grib\n",
      "    Conventions: NUWG\n",
      "    version: 0.0\n",
      "    dimensions(sizes): record(1), x(135), y(95), datetime_len(21), nmodels(1), ngrids(1), nav(1), nav_len(100)\n",
      "    variables(dimensions): float64 \u001b[4mreftime\u001b[0m(record), float64 \u001b[4mvaltime\u001b[0m(record), |S1 \u001b[4mdatetime\u001b[0m(record,datetime_len), float32 \u001b[4mvaltime_offset\u001b[0m(record), int32 \u001b[4mmodel_id\u001b[0m(nmodels), |S1 \u001b[4mnav_model\u001b[0m(nav,nav_len), int32 \u001b[4mgrid_type_code\u001b[0m(nav), |S1 \u001b[4mgrid_type\u001b[0m(nav,nav_len), |S1 \u001b[4mgrid_name\u001b[0m(nav,nav_len), int32 \u001b[4mgrid_center\u001b[0m(nav), int32 \u001b[4mgrid_number\u001b[0m(nav,ngrids), |S1 \u001b[4mx_dim\u001b[0m(nav,nav_len), |S1 \u001b[4my_dim\u001b[0m(nav,nav_len), int32 \u001b[4mNx\u001b[0m(nav), int32 \u001b[4mNy\u001b[0m(nav), float32 \u001b[4mLa1\u001b[0m(nav), float32 \u001b[4mLo1\u001b[0m(nav), float32 \u001b[4mLov\u001b[0m(nav), float32 \u001b[4mDx\u001b[0m(nav), float32 \u001b[4mDy\u001b[0m(nav), int8 \u001b[4mProjFlag\u001b[0m(nav), int8 \u001b[4mResCompFlag\u001b[0m(nav), float32 \u001b[4mZ_sfc\u001b[0m(record,y,x)\n",
      "    groups: \n",
      "\n"
     ]
    }
   ],
   "source": [
    "dd = Dataset('/usr/local/tds/apache-tomcat-8.5.11/content/thredds/public/testdata/2004050400_eta_211.nc')\n",
    "print(dd)"
   ]
  },
  {
   "cell_type": "code",
   "execution_count": 59,
   "metadata": {
    "collapsed": false
   },
   "outputs": [
    {
     "data": {
      "image/png": "[encoded data removed]",
      "text/plain": [
       "<matplotlib.figure.Figure at 0x7f6e79510dd0>"
      ]
     },
     "metadata": {},
     "output_type": "display_data"
    }
   ],
   "source": [
    "pl.contourf(dd.variables['Z_sfc'][0,:,:])\n",
    "pl.colorbar()\n",
    "pl.show()"
   ]
  },
  {
   "cell_type": "code",
   "execution_count": 96,
   "metadata": {
    "collapsed": false
   },
   "outputs": [
    {
     "data": {
      "text/plain": [
       "<type 'netCDF4._netCDF4.Variable'>\n",
       "float32 Z_sfc(record, y, x)\n",
       "    long_name: Geopotential height, gpm\n",
       "    units: gp m\n",
       "    _FillValue: -9999.0\n",
       "    navigation: nav\n",
       "unlimited dimensions: record\n",
       "current shape = (1, 95, 135)\n",
       "filling off"
      ]
     },
     "execution_count": 96,
     "metadata": {},
     "output_type": "execute_result"
    }
   ],
   "source": [
    "dd.variables['Z_sfc']"
   ]
  },
  {
   "cell_type": "code",
   "execution_count": 82,
   "metadata": {
    "collapsed": false
   },
   "outputs": [
    {
     "name": "stdout",
     "output_type": "stream",
     "text": [
      "[135]\n",
      "[95]\n",
      "[ 60000.]\n",
      "[ 60000.]\n",
      "[0]\n",
      "[ 27.20299911]\n",
      "[-135.21299744]\n",
      "[ 249.]\n",
      "[['y' '' '' '' '' '' '' '' '' '' '' '' '' '' '' '' '' '' '' '' '' '' '' ''\n",
      "  '' '' '' '' '' '' '' '' '' '' '' '' '' '' '' '' '' '' '' '' '' '' '' ''\n",
      "  '' '' '' '' '' '' '' '' '' '' '' '' '' '' '' '' '' '' '' '' '' '' '' ''\n",
      "  '' '' '' '' '' '' '' '' '' '' '' '' '' '' '' '' '' '' '' '' '' '' '' ''\n",
      "  '' '' '' '']]\n",
      "[[255]]\n"
     ]
    }
   ],
   "source": [
    "print (dd.variables['Nx'][:])\n",
    "print (dd.variables['Ny'][:])\n",
    "print (dd.variables['Dx'][:])\n",
    "print (dd.variables['Dy'][:])\n",
    "print (dd.variables['ProjFlag'][:])\n",
    "print (dd.variables['La1'][:])\n",
    "print (dd.variables['Lo1'][:])\n",
    "print (dd.variables['Lov'][:])\n",
    "print (dd.variables['y_dim'][:])\n",
    "print (dd.variables['grid_number'][:])"
   ]
  },
  {
   "cell_type": "code",
   "execution_count": 87,
   "metadata": {
    "collapsed": false
   },
   "outputs": [
    {
     "data": {
      "text/plain": [
       "(1, 100)"
      ]
     },
     "execution_count": 87,
     "metadata": {},
     "output_type": "execute_result"
    }
   ],
   "source": [
    "dd.variables['x_dim'][:].shape"
   ]
  },
  {
   "cell_type": "code",
   "execution_count": 91,
   "metadata": {
    "collapsed": false
   },
   "outputs": [
    {
     "data": {
      "text/plain": [
       "<type 'netCDF4._netCDF4.Dimension'>: name = 'x', size = 135"
      ]
     },
     "execution_count": 91,
     "metadata": {},
     "output_type": "execute_result"
    }
   ],
   "source": [
    "dd.dimensions['x']"
   ]
  }
 ],
 "metadata": {
  "anaconda-cloud": {},
  "kernelspec": {
   "display_name": "Python [conda root]",
   "language": "python",
   "name": "conda-root-py"
  },
  "language_info": {
   "codemirror_mode": {
    "name": "ipython",
    "version": 2
   },
   "file_extension": ".py",
   "mimetype": "text/x-python",
   "name": "python",
   "nbconvert_exporter": "python",
   "pygments_lexer": "ipython2",
   "version": "2.7.12"
  }
 },
 "nbformat": 4,
 "nbformat_minor": 1
}
