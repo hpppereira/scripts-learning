{
 "cells": [
  {
   "cell_type": "markdown",
   "metadata": {},
   "source": [
    "## Learning CV2\n",
    "- Henrique Pereira\n",
    "- 12/01/2018\n",
    "- Ref: https://media.readthedocs.org/pdf/opencv-python-tutroals/latest/opencv-python-tutroals.pdf"
   ]
  },
  {
   "cell_type": "code",
   "execution_count": 1,
   "metadata": {
    "collapsed": true
   },
   "outputs": [],
   "source": [
    "import os\n",
    "import cv2\n",
    "import matplotlib.pyplot as plt\n",
    "import numpy as np"
   ]
  },
  {
   "cell_type": "markdown",
   "metadata": {},
   "source": [
    "## Moments\n",
    "- pg. 87"
   ]
  },
  {
   "cell_type": "markdown",
   "metadata": {},
   "source": [
    "Image moments help you to calculate some features like center of mass of the object, area of the object etc. Check out the wikipedia page on Image Moments. The function cv2.moments() gives a dictionary of all moment values calculated. See below:"
   ]
  },
  {
   "cell_type": "code",
   "execution_count": 10,
   "metadata": {},
   "outputs": [
    {
     "name": "stdout",
     "output_type": "stream",
     "text": [
      "{'mu02': 990675.0, 'mu03': 0.0, 'm11': 0.0, 'nu02': 0.011755628177196805, 'm12': 0.0, 'mu21': 0.0, 'mu20': 0.0, 'nu20': 0.0, 'm30': 0.0, 'nu21': 0.0, 'mu11': 0.0, 'mu12': 0.0, 'nu11': 0.0, 'nu12': 0.0, 'm02': 32671529730.0, 'm03': 61638578652420.0, 'm00': 9180.0, 'm01': 17318070.0, 'mu30': 0.0, 'nu30': 0.0, 'nu03': 0.0, 'm10': 0.0, 'm20': 0.0, 'm21': 0.0}\n"
     ]
    }
   ],
   "source": [
    "import cv2\n",
    "import numpy as np\n",
    "\n",
    "pathname = 'fig/frames/'\n",
    "listfiles = np.sort(os.listdir(pathname))\n",
    "filename = listfiles[100]\n",
    "\n",
    "img = cv2.imread(pathname+filename,0)\n",
    "ret,thresh = cv2.threshold(img,127,255,0)\n",
    "contours,hierarchy, offset = cv2.findContours(thresh, 1, 2)\n",
    "cnt = contours[0]\n",
    "M = cv2.moments(cnt)\n",
    "print M"
   ]
  },
  {
   "cell_type": "markdown",
   "metadata": {},
   "source": [
    "From this moments, you can extract useful data like area, centroid etc. Centroid is given by the relations, C x =\n",
    "M 01 and C y = M. This can be done as follows:"
   ]
  },
  {
   "cell_type": "code",
   "execution_count": null,
   "metadata": {
    "collapsed": true
   },
   "outputs": [],
   "source": []
  },
  {
   "cell_type": "code",
   "execution_count": 11,
   "metadata": {
    "collapsed": true
   },
   "outputs": [],
   "source": [
    "cx = int(M['m10']/M['m00'])\n",
    "cy = int(M['m01']/M['m00'])"
   ]
  },
  {
   "cell_type": "code",
   "execution_count": null,
   "metadata": {
    "collapsed": true
   },
   "outputs": [],
   "source": [
    "\n"
   ]
  },
  {
   "cell_type": "code",
   "execution_count": 23,
   "metadata": {},
   "outputs": [],
   "source": [
    "cxx = []\n",
    "cyy = []\n",
    "\n",
    "for cnt in contours:\n",
    "    M = cv2.moments(cnt)\n",
    "#     print M\n",
    "    if M['m00'] <> 0:\n",
    "        \n",
    "        cx = int(M['m10']/M['m00'])\n",
    "        cy = int(M['m01']/M['m00'])\n",
    "\n",
    "        cxx.append(cx)\n",
    "        cyy.append(cy)"
   ]
  },
  {
   "cell_type": "code",
   "execution_count": 27,
   "metadata": {},
   "outputs": [
    {
     "data": {
      "image/png": "[encoded data removed]",
      "text/plain": [
       "<matplotlib.figure.Figure at 0x7fa58765c710>"
      ]
     },
     "metadata": {},
     "output_type": "display_data"
    }
   ],
   "source": [
    "plt.plot(cxx, cyy)\n",
    "plt.show()"
   ]
  },
  {
   "cell_type": "markdown",
   "metadata": {},
   "source": [
    "## Template Matching with Multiple Objects\n",
    "- pg. 135"
   ]
  },
  {
   "cell_type": "markdown",
   "metadata": {},
   "source": [
    "In the previous section, we searched image for Messi’s face, which occurs only once in the image. Suppose you are\n",
    "searching for an object which has multiple occurances, cv2.minMaxLoc() won’t give you all the locations. In that\n",
    "case, we will use thresholding. So in this example, we will use a screenshot of the famous game Mario and we will\n",
    "find the coins in it."
   ]
  },
  {
   "cell_type": "code",
   "execution_count": 38,
   "metadata": {},
   "outputs": [
    {
     "data": {
      "text/plain": [
       "True"
      ]
     },
     "execution_count": 38,
     "metadata": {},
     "output_type": "execute_result"
    }
   ],
   "source": [
    "import cv2\n",
    "import numpy as np\n",
    "from matplotlib import pyplot as plt\n",
    "\n",
    "pathname = 'fig/frames/'\n",
    "listfiles = np.sort(os.listdir(pathname))\n",
    "filename = listfiles[100]\n",
    "\n",
    "img_rgb = cv2.imread(pathname + filename)\n",
    "img_gray = cv2.cvtColor(img_rgb, cv2.COLOR_BGR2GRAY)\n",
    "template = cv2.imread('fig/ball_video_01.png',0)\n",
    "w, h = template.shape[::-1]\n",
    "res = cv2.matchTemplate(img_gray,template,cv2.TM_CCOEFF_NORMED)\n",
    "threshold = 0.6\n",
    "loc = np.where( res >= threshold)\n",
    "\n",
    "for pt in zip(*loc[::-1]):\n",
    "    cv2.rectangle(img_rgb, pt, (pt[0] + w, pt[1] + h), (0,0,255), 2)\n",
    "\n",
    "cv2.imwrite('res.png',img_rgb)"
   ]
  },
  {
   "cell_type": "code",
   "execution_count": 33,
   "metadata": {},
   "outputs": [
    {
     "data": {
      "image/png": "[encoded data removed]",
      "text/plain": [
       "<matplotlib.figure.Figure at 0x7fa58765c390>"
      ]
     },
     "metadata": {},
     "output_type": "display_data"
    }
   ],
   "source": [
    "plt.imshow(res)\n",
    "plt.show()"
   ]
  },
  {
   "cell_type": "code",
   "execution_count": null,
   "metadata": {
    "collapsed": true
   },
   "outputs": [],
   "source": []
  },
  {
   "cell_type": "code",
   "execution_count": 5,
   "metadata": {},
   "outputs": [],
   "source": [
    "a=cv2.findContours(thresh, 1, 2)"
   ]
  },
  {
   "cell_type": "code",
   "execution_count": 9,
   "metadata": {},
   "outputs": [],
   "source": [
    "cv2.findContours?"
   ]
  },
  {
   "cell_type": "code",
   "execution_count": null,
   "metadata": {
    "collapsed": true
   },
   "outputs": [],
   "source": []
  },
  {
   "cell_type": "code",
   "execution_count": null,
   "metadata": {
    "collapsed": true
   },
   "outputs": [],
   "source": []
  },
  {
   "cell_type": "code",
   "execution_count": null,
   "metadata": {
    "collapsed": true
   },
   "outputs": [],
   "source": []
  },
  {
   "cell_type": "code",
   "execution_count": null,
   "metadata": {
    "collapsed": true
   },
   "outputs": [],
   "source": []
  },
  {
   "cell_type": "code",
   "execution_count": null,
   "metadata": {
    "collapsed": true
   },
   "outputs": [],
   "source": []
  },
  {
   "cell_type": "code",
   "execution_count": null,
   "metadata": {
    "collapsed": true
   },
   "outputs": [],
   "source": []
  },
  {
   "cell_type": "code",
   "execution_count": null,
   "metadata": {
    "collapsed": true
   },
   "outputs": [],
   "source": []
  },
  {
   "cell_type": "code",
   "execution_count": null,
   "metadata": {
    "collapsed": true
   },
   "outputs": [],
   "source": []
  },
  {
   "cell_type": "code",
   "execution_count": null,
   "metadata": {
    "collapsed": true
   },
   "outputs": [],
   "source": []
  },
  {
   "cell_type": "code",
   "execution_count": null,
   "metadata": {
    "collapsed": true
   },
   "outputs": [],
   "source": []
  },
  {
   "cell_type": "code",
   "execution_count": null,
   "metadata": {
    "collapsed": true
   },
   "outputs": [],
   "source": []
  },
  {
   "cell_type": "code",
   "execution_count": null,
   "metadata": {
    "collapsed": true
   },
   "outputs": [],
   "source": []
  },
  {
   "cell_type": "code",
   "execution_count": null,
   "metadata": {
    "collapsed": true
   },
   "outputs": [],
   "source": [
    "pathname = os.environ['HOME'] + '/Dropbox/Random_Drift/data/'\n",
    "filename = 'frame.jpg'"
   ]
  },
  {
   "cell_type": "code",
   "execution_count": null,
   "metadata": {
    "collapsed": true
   },
   "outputs": [],
   "source": [
    "# Load an color image in grayscale\n",
    "\n",
    "# cv2.IMREAD_COLOR : Loads a color image. Any transparency of image will be neglected. It is the default\n",
    "# flag.\n",
    "# cv2.IMREAD_GRAYSCALE : Loads image in grayscale mode\n",
    "# cv2.IMREAD_UNCHANGED : Loads image as such including alpha channel\n",
    "# Note: Instead of these three flags, you can simply pass integers 1, 0 or -1 respectively.\n",
    "\n",
    "img = cv2.imread(pathname + filename,0)\n",
    "img"
   ]
  },
  {
   "cell_type": "code",
   "execution_count": null,
   "metadata": {
    "collapsed": true
   },
   "outputs": [],
   "source": [
    "# cv2.waitKey() is a keyboard binding function. Its argument is the time in milliseconds. The function waits for\n",
    "# specified milliseconds for any keyboard event. If you press any key in that time, the program continues. If 0 is passed,\n",
    "# it waits indefinitely for a key stroke. It can also be set to detect specific key strokes like, if key a is pressed etc which\n",
    "# we will discuss below.\n",
    "\n",
    "# cv2.destroyAllWindows() simply destroys all the windows we created. If you want to destroy any specific window,\n",
    "# use the function cv2.destroyWindow() where you pass the exact window name as the argument\n",
    "\n",
    "# Note: There is a special case where you can already create a window and load image to it later. In that case, you can\n",
    "# specify whether window is resizable or not. It is done with the function cv2.namedWindow(). By default, the flag is\n",
    "# cv2.WINDOW_AUTOSIZE. But if you specify flag to be cv2.WINDOW_NORMAL, you can resize window. It will be\n",
    "# helpful when image is too large in dimension and adding track bar to windows.\n",
    "\n",
    "cv2.imshow('image',img)\n",
    "cv2.waitKey(0)\n",
    "cv2.destroyAllWindows()"
   ]
  },
  {
   "cell_type": "markdown",
   "metadata": {},
   "source": [
    "## Write and image  "
   ]
  },
  {
   "cell_type": "code",
   "execution_count": null,
   "metadata": {
    "collapsed": true
   },
   "outputs": [],
   "source": [
    "cv2.imwrite('teste_opencv1.png',img)"
   ]
  },
  {
   "cell_type": "markdown",
   "metadata": {},
   "source": [
    "## Plot with matplotlib"
   ]
  },
  {
   "cell_type": "code",
   "execution_count": null,
   "metadata": {
    "collapsed": true
   },
   "outputs": [],
   "source": [
    "# plot with matplolib\n",
    "\n",
    "plt.imshow(img, cmap = 'gray', interpolation = 'bicubic')\n",
    "plt.xticks([]), plt.yticks([]) # to hide tick values on X and Y axis\n",
    "plt.show()"
   ]
  },
  {
   "cell_type": "code",
   "execution_count": null,
   "metadata": {
    "collapsed": true
   },
   "outputs": [],
   "source": [
    "# Below program loads an image in grayscale, displays it, save the image if you press ‘s’ and exit, or simply exit without\n",
    "# saving if you press ESC key.\n",
    "\n",
    "# import numpy as np\n",
    "# import cv2\n",
    "\n",
    "img = cv2.imread(pathname + filename,0)\n",
    "\n",
    "cv2.imshow('image',img)\n",
    "k = cv2.waitKey(0) & 0xFF\n",
    "\n",
    "if k == 27:\n",
    "    \n",
    "    # wait for ESC key to exit\n",
    "    cv2.destroyAllWindows()\n",
    "\n",
    "elif k == ord('s'): # wait for 's' key to save and exit\n",
    "\n",
    "    cv2.imwrite('messigray2.png',img)\n",
    "    cv2.destroyAllWindows()"
   ]
  },
  {
   "cell_type": "markdown",
   "metadata": {},
   "source": [
    "## Video"
   ]
  },
  {
   "cell_type": "code",
   "execution_count": null,
   "metadata": {
    "collapsed": true
   },
   "outputs": [],
   "source": [
    "import os\n",
    "import cv2"
   ]
  },
  {
   "cell_type": "code",
   "execution_count": null,
   "metadata": {
    "collapsed": true
   },
   "outputs": [],
   "source": [
    "pathname = os.environ['HOME'] + '/Dropbox/Random_Drift/data/DERIVA_RANDOMICA/VIDEO/CAM1/T100/'\n",
    "filename = 'T100_010100_CAM1.avi'"
   ]
  },
  {
   "cell_type": "code",
   "execution_count": null,
   "metadata": {
    "collapsed": true,
    "scrolled": true
   },
   "outputs": [],
   "source": [
    "cap = cv2.VideoCapture(pathname + filename)\n",
    "\n",
    "while(cap.isOpened()):\n",
    "    \n",
    "#     print cap.isOpened()\n",
    "\n",
    "    ret, frame = cap.read()\n",
    "    gray = cv2.cvtColor(frame, cv2.COLOR_BGR2GRAY)\n",
    "    cv2.imshow('frame',gray)\n",
    "\n",
    "    if cv2.waitKey(1) & 0xFF == ord('q'):\n",
    "        break\n",
    "\n",
    "cap.release()\n",
    "cv2.destroyAllWindows()"
   ]
  },
  {
   "cell_type": "code",
   "execution_count": null,
   "metadata": {
    "collapsed": true
   },
   "outputs": [],
   "source": [
    "# access some of the features of this video using cap.get(propId)\n",
    "\n",
    "cap = cv2.VideoCapture(pathname + filename)\n",
    "\n",
    "print cap.isOpened()\n",
    "\n",
    "# these values can be modified using cap.set(propId, value)\n",
    "\n",
    "# frame width\n",
    "print cap.get(3)\n",
    "\n",
    "# frame height\n",
    "print cap.get(4)\n"
   ]
  },
  {
   "cell_type": "markdown",
   "metadata": {},
   "source": [
    "## Playing video from a  file"
   ]
  },
  {
   "cell_type": "code",
   "execution_count": null,
   "metadata": {
    "collapsed": true
   },
   "outputs": [],
   "source": [
    "import numpy as np\n",
    "import cv2\n",
    "\n",
    "pathname = '/home/hp/Dropbox/Random_Drift/data/DERIVA_RANDOMICA/VIDEO/CAM1/T100/T100_010100_CAM1.avi'\n",
    "\n",
    "cap = cv2.VideoCapture(pathname)\n",
    "\n",
    "while(cap.isOpened()):\n",
    "\n",
    "    ret, frame = cap.read()\n",
    "\n",
    "# ret\n",
    "    gray = cv2.cvtColor(frame, cv2.COLOR_BGR2GRAY)\n",
    "    \n",
    "    cv2.imshow('frame',gray)\n",
    "\n",
    "    if cv2.waitKey(1) & 0xFF == ord('q'):\n",
    "        break\n",
    "\n",
    "cap.release()\n",
    "\n",
    "cv2.destroyAllWindows()\n"
   ]
  },
  {
   "cell_type": "code",
   "execution_count": null,
   "metadata": {
    "collapsed": true,
    "scrolled": true
   },
   "outputs": [],
   "source": [
    "# teste tracking\n",
    "\n",
    "import numpy as np\n",
    "import cv2\n",
    "\n",
    "pathname = '/home/hp/Dropbox/Random_Drift/data/DERIVA_RANDOMICA/VIDEO/CAM1/T100/T100_010100_CAM1.avi'\n",
    "\n",
    "cap = cv2.VideoCapture(pathname)\n",
    "\n",
    "# take first frame of the video\n",
    "ret,frame = cap.read()\n",
    "\n",
    "\n",
    "# setup initial location of window\n",
    "r,h,c,w = 250,90,400,125 # simply hardcoded the values\n",
    "track_window = (c,r,w,h)\n",
    "\n",
    "# set up the ROI for tracking\n",
    "roi = frame[r:r+h, c:c+w]\n",
    "hsv_roi = cv2.cvtColor(frame, cv2.COLOR_BGR2HSV)\n",
    "mask = cv2.inRange(hsv_roi, np.array((0., 60.,32.)), np.array((180.,255.,255.)))\n",
    "roi_hist = cv2.calcHist([hsv_roi],[0],mask,[180],[0,180])\n",
    "cv2.normalize(roi_hist,roi_hist,0,255,cv2.NORM_MINMAX)\n",
    "\n",
    "# Setup the termination criteria, either 10 iteration or move by atleast 1 pt\n",
    "term_crit = ( cv2.TERM_CRITERIA_EPS | cv2.TERM_CRITERIA_COUNT, 10, 1 )\n",
    "\n",
    "while(1):\n",
    "\tret ,frame = cap.read()\n",
    "\tif ret == True:\n",
    "\t\thsv = cv2.cvtColor(frame, cv2.COLOR_BGR2HSV)\n",
    "\t\tdst = cv2.calcBackProject([hsv],[0],roi_hist,[0,180],1)\n",
    "\t\t# apply meanshift to get the new location\n",
    "\t\tret, track_window = cv2.meanShift(dst, track_window, term_crit)\n",
    "\t\t# Draw it on image\n",
    "\t\tx,y,w,h = track_window\n",
    "\t\timg2 = cv2.rectangle(frame, (x,y), (x+w,y+h), 255,2)\n",
    "\t\tcv2.imshow('img2',img2)\n",
    "\t\tk = cv2.waitKey(60) & 0xff\n",
    "\t\tif k == 27:\n",
    "\t\t\tbreak\n",
    "\t\telse:\n",
    "\t\t\tcv2.imwrite(chr(k)+\".jpg\",img2)\n",
    "\telse:\n",
    "\t\tbreak\n",
    "cv2.destroyAllWindows()\n",
    "cap.release()"
   ]
  },
  {
   "cell_type": "markdown",
   "metadata": {
    "collapsed": true
   },
   "source": [
    "## Saving a video"
   ]
  },
  {
   "cell_type": "code",
   "execution_count": null,
   "metadata": {
    "collapsed": true
   },
   "outputs": [],
   "source": []
  },
  {
   "cell_type": "code",
   "execution_count": null,
   "metadata": {
    "collapsed": true
   },
   "outputs": [],
   "source": []
  },
  {
   "cell_type": "markdown",
   "metadata": {},
   "source": [
    "## Drawing Functions in OpenCV"
   ]
  },
  {
   "cell_type": "code",
   "execution_count": null,
   "metadata": {
    "collapsed": true
   },
   "outputs": [],
   "source": [
    "# Functions: cv2.line(), cv2.circle() , cv2.rectangle(), cv2.ellipse(), cv2.putText()\n",
    "\n",
    "# In all the above functions, you will see some common arguments as given below:\n",
    "# • img : The image where you want to draw the shapes\n",
    "# • color : Color of the shape. for BGR, pass it as a tuple, eg: (255,0,0) for blue. For grayscale, just pass the\n",
    "# scalar value.\n",
    "# • thickness : Thickness of the line or circle etc. If -1 is passed for closed figures like circles, it will fill the shape.\n",
    "# default thickness = 1\n",
    "# • lineType : Type of line, whether 8-connected, anti-aliased line etc. By default, it is 8-connected. cv2.LINE_AA\n",
    "# gives anti-aliased line which looks great for curves."
   ]
  },
  {
   "cell_type": "code",
   "execution_count": null,
   "metadata": {
    "collapsed": true
   },
   "outputs": [],
   "source": [
    "# %matplotlib inline\n",
    "# %matplotlib qt5"
   ]
  },
  {
   "cell_type": "code",
   "execution_count": null,
   "metadata": {
    "collapsed": true,
    "scrolled": true
   },
   "outputs": [],
   "source": [
    "# Create a black image\n",
    "\n",
    "import numpy as np\n",
    "import cv2\n",
    "\n",
    "img = np.zeros((512,512,3), np.uint8)\n",
    "\n",
    "# Draw a diagonal blue line with thickness of 5 px\n",
    "img = cv2.line(img,(0,0),(511,511),(255,0,0),5)\n",
    "\n",
    "cv2.imshow('image1',img)\n",
    "\n",
    "# Drawing Rectangle\n",
    "# To draw a rectangle, you need top-left corner and bottom-right corner of rectangle. This time we will draw a green\n",
    "# rectangle at the top-right corner of image.\n",
    "\n",
    "img = cv2.rectangle(img,(384,0),(510,128),(0,255,0),3)\n",
    "\n",
    "cv2.imshow('image2',img)\n",
    "\n",
    "# Drawing Circle\n",
    "# To draw a circle, you need its center coordinates and radius. We will draw a circle inside the rectangle drawn above.\n",
    "\n",
    "img = cv2.circle(img,(447,63), 63, (0,0,255), -1)\n",
    "\n",
    "cv2.imshow('image3',img)\n",
    "\n",
    "# Drawing Ellipse\n",
    "# To draw the ellipse, we need to pass several arguments. One argument is the center location (x,y). Next argument is\n",
    "# axes lengths (major axis length, minor axis length). angle is the angle of rotation of ellipse in anti-clockwise direc-\n",
    "# tion. startAngle and endAngle denotes the starting and ending of ellipse arc measured in clockwise direction\n",
    "# from major axis. i.e. giving values 0 and 360 gives the full ellipse. For more details, check the documentation of\n",
    "# cv2.ellipse(). Below example draws a half ellipse at the center of the image.\n",
    "\n",
    "img = cv2.ellipse(img,(256,256),(100,50),0,0,180,255,-1)\n",
    "\n",
    "cv2.imshow('image4',img)\n",
    "\n",
    "# Drawing Polygon\n",
    "# To draw a polygon, first you need coordinates of vertices. Make those points into an array of shape ROWSx1x2 where\n",
    "# ROWS are number of vertices and it should be of type int32. Here we draw a small polygon of with four vertices in\n",
    "# yellow color.\n",
    "# Note: If third argument is False, you will get a polylines joining all the points, not a closed shape.\n",
    "# Note: cv2.polylines() can be used to draw multiple lines. Just create a list of all the lines you want to draw\n",
    "# and pass it to the function. All lines will be drawn individually. It is more better and faster way to draw a group of\n",
    "# lines than calling cv2.line() for each line.\n",
    "\n",
    "pts = np.array([[10,5],[20,30],[70,20],[50,10]], np.int32)\n",
    "pts = pts.reshape((-1,1,2))\n",
    "\n",
    "img = cv2.polylines(img,[pts],True,(0,255,255))\n",
    "\n",
    "cv2.imshow('image5',img)\n",
    "\n",
    "# Adding Text to Images:\n",
    "# To put texts in images, you need specify following things.\n",
    "# • Text data that you want to write\n",
    "# • Position coordinates of where you want put it (i.e. bottom-left corner where data starts).\n",
    "# • Font type (Check cv2.putText() docs for supported fonts)\n",
    "# • Font Scale (specifies the size of font)\n",
    "# • regular things like color, thickness, lineType etc. For better look, lineType = cv2.LINE_AA is\n",
    "# recommended.\n",
    "# We will write OpenCV on our image in white color.\n",
    "\n",
    "font = cv2.FONT_HERSHEY_SIMPLEX\n",
    "cv2.putText(img,'OpenCV',(10,500), font, 4,(255,255,255),2,cv2.LINE_AA)\n",
    "\n",
    "cv2.imshow('image6',img)\n"
   ]
  },
  {
   "cell_type": "markdown",
   "metadata": {},
   "source": [
    "## Mouse as a Paint-Brush\n",
    "Goal\n",
    "\n",
    "• Learn to handle mouse events in OpenCV\n",
    "\n",
    "• You will learn these functions : cv2.setMouseCallback()"
   ]
  },
  {
   "cell_type": "code",
   "execution_count": null,
   "metadata": {
    "collapsed": true
   },
   "outputs": [],
   "source": [
    "# Simple Demo\n",
    "# Here, we create a simple application which draws a circle on an image wherever we double-click on it.\n",
    "# First we create a mouse callback function which is executed when a mouse event take place. Mouse event can be\n",
    "# anything related to mouse like left-button down, left-button up, left-button double-click etc. It gives us the coordinates\n",
    "# (x,y) for every mouse event. With this event and location, we can do whatever we like. To list all available events\n",
    "# available, run the following code in Python terminal:\n",
    "\n",
    "events = [i for i in dir(cv2) if 'EVENT' in i]\n",
    "print events\n"
   ]
  },
  {
   "cell_type": "code",
   "execution_count": null,
   "metadata": {
    "collapsed": true
   },
   "outputs": [],
   "source": [
    "# Creating mouse callback function has a specific format which is same everywhere. It differs only in what the function\n",
    "# does. So our mouse callback function does one thing, it draws a circle where we double-click. So see the code below.\n",
    "# Code is self-explanatory from comments :\n",
    "\n",
    "import cv2\n",
    "import numpy as np\n",
    "\n",
    "# mouse callback function\n",
    "def draw_circle(event,x,y,flags,param):\n",
    "    if event == cv2.EVENT_LBUTTONDBLCLK:\n",
    "        cv2.circle(img,(x,y),100,(255,0,0),-1)\n",
    "\n",
    "# Create a black image, a window and bind the function to window\n",
    "img = np.zeros((512,512,3), np.uint8)\n",
    "cv2.namedWindow('image')\n",
    "cv2.setMouseCallback('image',draw_circle)\n",
    "\n",
    "while(1):\n",
    "    cv2.imshow('image',img)\n",
    "    if cv2.waitKey(20) & 0xFF == 27:\n",
    "        break\n",
    "\n",
    "cv2.destroyAllWindows()"
   ]
  },
  {
   "cell_type": "code",
   "execution_count": null,
   "metadata": {
    "collapsed": true
   },
   "outputs": [],
   "source": []
  },
  {
   "cell_type": "code",
   "execution_count": null,
   "metadata": {
    "collapsed": true
   },
   "outputs": [],
   "source": [
    "import cv2\n",
    "import numpy as np\n",
    "import os\n",
    "\n",
    "# pathname = os.environ['HOME'] + '/Dropbox/Random_Drift/data/'\n",
    "# filename = 'frame.jpg'\n",
    "\n",
    "pathname = 'fig/frames/'\n",
    "# v = cv2.VideoCapture(video_path)\n",
    "# ret, cap = v.read()\n",
    "\n",
    "for filename in np.sort(os.listdir(pathname))[50:150]:\n",
    "\n",
    "    img = cv2.imread(pathname + filename,0)\n",
    "\n",
    "    img = cv2.medianBlur(img,5)\n",
    "    \n",
    "    cimg = cv2.cvtColor(img,cv2.COLOR_GRAY2BGR)\n",
    "\n",
    "    circles = cv2.HoughCircles(img,cv2.HOUGH_GRADIENT,1.9,20,\n",
    "                               param1=50,param2=30,minRadius=5,maxRadius=15)\n",
    "\n",
    "    circles = np.uint16(np.around(circles))\n",
    "\n",
    "    for i in circles[0,:]:\n",
    "\n",
    "        # draw the outer circle\n",
    "        cv2.circle(cimg,(i[0],i[1]),i[2],(0,255,0),2)\n",
    "\n",
    "        # draw the center of the circle\n",
    "        cv2.circle(cimg,(i[0],i[1]),2,(0,0,255),3)\n",
    "        \n",
    "    cv2.imwrite('fig/circles/circles_%s' %filename, cimg)\n",
    "\n",
    "#     cv2.imshow('fig/circle_detection_%s' %filename, cimg)\n",
    "#     cv2.waitKey(0)\n",
    "#     cv2.destroyAllWindows()\n"
   ]
  },
  {
   "cell_type": "code",
   "execution_count": null,
   "metadata": {
    "collapsed": true
   },
   "outputs": [],
   "source": []
  }
 ],
 "metadata": {
  "kernelspec": {
   "display_name": "Python 2",
   "language": "python",
   "name": "python2"
  },
  "language_info": {
   "codemirror_mode": {
    "name": "ipython",
    "version": 2
   },
   "file_extension": ".py",
   "mimetype": "text/x-python",
   "name": "python",
   "nbconvert_exporter": "python",
   "pygments_lexer": "ipython2",
   "version": "2.7.11"
  }
 },
 "nbformat": 4,
 "nbformat_minor": 2
}
