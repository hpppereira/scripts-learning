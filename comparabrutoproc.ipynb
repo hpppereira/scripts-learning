{
 "cells": [
  {
   "cell_type": "markdown",
   "metadata": {},
   "source": [
    "# Comparação dos dados brutos (HNE) e Processados para o primeiro semetre de 2012"
   ]
  },
  {
   "cell_type": "code",
   "execution_count": 5,
   "metadata": {
    "collapsed": false
   },
   "outputs": [],
   "source": [
    "import os\n",
    "import pandas as pd\n",
    "import numpy as np\n",
    "from datetime import datetime\n",
    "import matplotlib.pylab as pl"
   ]
  },
  {
   "cell_type": "code",
   "execution_count": 13,
   "metadata": {
    "collapsed": false
   },
   "outputs": [],
   "source": [
    "# carrega dados brutos da boia\n",
    "\n",
    "pathname = os.environ['HOME'] + '/Dropbox/pnboia/data/'\n",
    "\n",
    "rig = pd.read_csv(pathname + 'rio_grande/proc/rig_8_lioc.csv', parse_dates=['date'], index_col='date')\n",
    "fln = pd.read_csv(pathname + 'florianopolis/proc/fln_8_lioc.csv', parse_dates=['date'], index_col='date')\n",
    "san = pd.read_csv(pathname + 'santos/proc/san_8_lioc.csv', parse_dates=['date'], index_col='date')\n",
    "\n",
    "# corrige a declinacao magnetica\n",
    "rig.dp = rig.dp - 17\n",
    "fln.dp = fln.dp - 20\n",
    "san.dp = san.dp - 22\n",
    "\n",
    "rig.dp.loc[rig.dp < 0] = rig.dp.loc[rig.dp < 0] + 360\n",
    "fln.dp.loc[fln.dp < 0] = fln.dp.loc[fln.dp < 0] + 360\n",
    "san.dp.loc[san.dp < 0] = san.dp.loc[san.dp < 0] + 360"
   ]
  },
  {
   "cell_type": "code",
   "execution_count": 4,
   "metadata": {
    "collapsed": false
   },
   "outputs": [],
   "source": [
    "# carrega dados processados validados pela MB\n",
    "\n",
    "pathname = os.environ['HOME'] + '/Dropbox/pnboia/data/'\n",
    "\n",
    "dd = pd.read_excel(pathname + 'historico_dados_validados.xlsx',\n",
    "                   sheetname=['METADADOS','santos','santacatarina','riogrande','recife','portoseguro','cabofrio'])\n",
    "\n",
    "rg = dd['riogrande']\n",
    "re = dd['recife']\n",
    "sa = dd['santos']\n",
    "fl = dd['santacatarina']\n",
    "ps = dd['portoseguro']\n",
    "cf = dd['cabofrio']\n",
    "\n",
    "rg['date'] = [datetime(rg.Year[i],rg.Month[i],rg.Day[i],rg.Hour[i]) for i in range(len(rg))]\n",
    "fl['date'] = [datetime(fl.Year[i],fl.Month[i],fl.Day[i],fl.Hour[i]) for i in range(len(fl))]\n",
    "sa['date'] = [datetime(sa.Year[i],sa.Month[i],sa.Day[i],sa.Hour[i]) for i in range(len(sa))]\n",
    "re['date'] = [datetime(re.Year[i],re.Month[i],re.Day[i],re.Hour[i]) for i in range(len(re))]\n",
    "ps['date'] = [datetime(ps.Year[i],ps.Month[i],ps.Day[i],ps.Hour[i]) for i in range(len(ps))]\n",
    "cf['date'] = [datetime(cf.Year[i],cf.Month[i],cf.Day[i],cf.Hour[i]) for i in range(len(cf))]\n",
    "\n",
    "#consistencia dos dados validados\n",
    "rg = rg.loc[(rg.wvht < 10) & (rg.wvht > 0) & (rg.dpd < 25)]\n",
    "fl = fl.loc[(fl.wvht < 10) & (fl.wvht > 0) & (fl.dpd < 25)]\n",
    "sa = sa.loc[(sa.wvht < 10) & (sa.wvht > 0) & (sa.dpd < 25)]\n",
    "cf = cf.loc[(cf.wvht < 10) & (cf.wvht > 0) & (cf.dpd < 25)]\n",
    "ps = ps.loc[(ps.wvht < 10) & (ps.wvht > 0) & (ps.dpd < 25)]\n",
    "re = re.loc[(re.wvht < 10) & (re.wvht > 0) & (re.dpd < 25)]\n",
    "\n",
    "rg.index = rg.date\n",
    "fl.index = fl.date\n",
    "sa.index = sa.date"
   ]
  },
  {
   "cell_type": "code",
   "execution_count": 6,
   "metadata": {
    "collapsed": false
   },
   "outputs": [],
   "source": [
    "# carrega dados do summary\n",
    "\n",
    "#Saida da Axys\n",
    "#  0        1            2          3        4        5         6        7            8            9         10     11           12       13      14              15  \n",
    "#YearJulian Date/Zero Crossings/Ave. Ht./Ave. Per./Max Ht./Sig. Wave/Sig. Per./Peak Per.(Tp)/Peak Per.(READ)/HM0/Mean Theta/Sigma Theta/ H1/10 / T.H1/10\t/Mean Per.(Tz)\n",
    "\n",
    "pathname = os.environ['HOME'] + '/Dropbox/pnboia/data/rio_grande/proc/'\n",
    "\n",
    "ax = np.loadtxt(pathname + 'rig_summary.txt',skiprows = 1, usecols = (range(2,18)))\n",
    "ax_data = np.loadtxt(pathname + 'rig_summary.txt',dtype = str, skiprows = 1, usecols = (0,1))\n",
    "\n",
    "#deixa datas com numeros inteiros\n",
    "ano_ax = [int(ax_data[i,0][0:4]) for i in range(len(ax_data))]\n",
    "mes_ax = [int(ax_data[i,0][5:7]) for i in range(len(ax_data))]\n",
    "dia_ax = [int(ax_data[i,0][8:10]) for i in range(len(ax_data))]\n",
    "hora_ax = [int(ax_data[i,1][:2]) for i in range(len(ax_data))]\n",
    "min_ax = [int(ax_data[i,1][3:]) for i in range(len(ax_data))]\n",
    "\n",
    "datam_ax = []\n",
    "for i in range(len(ax_data)):\n",
    "    datam_ax.append(datetime(ano_ax[i],mes_ax[i],dia_ax[i],hora_ax[i],min_ax[i]))\n",
    "\n",
    "#axys\n",
    "hm0_ax = ax[:,10]\n",
    "tp_ax = ax[:,8] #qual periodo usar?\n",
    "tmed_ax = ax[:,15]\n",
    "th10_ax = ax[:,14]\n",
    "dirtp_ax = ax[:,11]\n",
    "hmax_ax = ax[:,5]\n",
    "hs_ax = ax[:,6]\n",
    "h10_ax = ax[:,13]"
   ]
  },
  {
   "cell_type": "code",
   "execution_count": 19,
   "metadata": {
    "collapsed": false
   },
   "outputs": [],
   "source": [
    "%matplotlib qt5\n",
    "\n",
    "pl.figure()\n",
    "pl.plot(datam_ax, hm0_ax,'.')\n",
    "pl.plot(rig.index, rig.hm0,'.')\n",
    "\n",
    "pl.show()"
   ]
  },
  {
   "cell_type": "code",
   "execution_count": 18,
   "metadata": {
    "collapsed": false
   },
   "outputs": [],
   "source": [
    "rg[['wvht','dpd','mwd']].to_csv('../out/rig_mb.csv')\n",
    "fl[['wvht','dpd','mwd']].to_csv('../out/fln_mb.csv')\n",
    "sa[['wvht','dpd','mwd']].to_csv('../out/san_mb.csv')"
   ]
  },
  {
   "cell_type": "code",
   "execution_count": 15,
   "metadata": {
    "collapsed": false
   },
   "outputs": [],
   "source": [
    "%matplotlib qt5\n",
    "\n",
    "pl.close('all')\n",
    "\n",
    "pl.figure()\n",
    "pl.subplot(311)\n",
    "pl.title('RIG')\n",
    "pl.plot(rig.hm0,'.')\n",
    "pl.plot(rg.wvht,'.')\n",
    "pl.subplot(312)\n",
    "pl.plot(rig.tp,'.')\n",
    "pl.plot(rg.dpd,'.')\n",
    "pl.subplot(313)\n",
    "pl.plot(rig.dp,'.')\n",
    "pl.plot(rg.mwd,'.')\n",
    "\n",
    "pl.figure()\n",
    "pl.subplot(311)\n",
    "pl.title('FLN')\n",
    "pl.plot(fln.hm0,'.')\n",
    "pl.plot(fl.wvht,'.')\n",
    "pl.subplot(312)\n",
    "pl.plot(fln.tp,'.')\n",
    "pl.plot(fl.dpd,'.')\n",
    "pl.subplot(313)\n",
    "pl.plot(fln.dp,'.')\n",
    "pl.plot(fl.mwd,'.')\n",
    "\n",
    "pl.figure()\n",
    "pl.subplot(311)\n",
    "pl.title('SAN')\n",
    "pl.plot(san.hm0,'.')\n",
    "pl.plot(sa.wvht,'.')\n",
    "pl.subplot(312)\n",
    "pl.plot(san.tp,'.')\n",
    "pl.plot(sa.dpd,'.')\n",
    "pl.subplot(313)\n",
    "pl.plot(san.dp,'.')\n",
    "pl.plot(sa.mwd,'.')\n",
    "\n",
    "pl.show()"
   ]
  },
  {
   "cell_type": "code",
   "execution_count": null,
   "metadata": {
    "collapsed": true
   },
   "outputs": [],
   "source": []
  }
 ],
 "metadata": {
  "anaconda-cloud": {},
  "kernelspec": {
   "display_name": "Python 2",
   "language": "python",
   "name": "python2"
  },
  "language_info": {
   "codemirror_mode": {
    "name": "ipython",
    "version": 2
   },
   "file_extension": ".py",
   "mimetype": "text/x-python",
   "name": "python",
   "nbconvert_exporter": "python",
   "pygments_lexer": "ipython2",
   "version": "2.7.13"
  }
 },
 "nbformat": 4,
 "nbformat_minor": 1
}
